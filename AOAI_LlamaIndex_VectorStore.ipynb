{
 "cells": [
  {
   "cell_type": "code",
   "execution_count": null,
   "metadata": {},
   "outputs": [],
   "source": [
    "# Importing required packages\n",
    "from llama_index.llms.azure_openai import AzureOpenAI\n",
    "from llama_index.embeddings.azure_openai import AzureOpenAIEmbedding\n",
    "from llama_index.core import Settings, VectorStoreIndex, SimpleDirectoryReader\n",
    "import os"
   ]
  },
  {
   "cell_type": "code",
   "execution_count": null,
   "metadata": {},
   "outputs": [],
   "source": [
    "# Extracting environment variables\n",
    "AOAI_API_BASE = os.getenv(\"OPENAI_API_BASE\")\n",
    "AOAI_API_KEY = os.getenv(\"OPENAI_API_KEY\")\n",
    "AOAI_API_VERSION = os.getenv(\"OPENAI_API_VERSION\")\n",
    "AOAI_DEPLOYMENT1 = os.getenv(\"OPENAI_API_DEPLOY\")\n",
    "AOAI_DEPLOYMENT2 = os.getenv(\"OPENAI_API_DEPLOY_EMBED\")"
   ]
  },
  {
   "cell_type": "code",
   "execution_count": null,
   "metadata": {},
   "outputs": [],
   "source": [
    "# Defining GPT model\n",
    "llm = AzureOpenAI(\n",
    "    model = \"gpt-4\",\n",
    "    deployment_name = AOAI_DEPLOYMENT1,\n",
    "    api_key = AOAI_API_KEY,\n",
    "    azure_endpoint = AOAI_API_BASE,\n",
    "    api_version = AOAI_API_VERSION,\n",
    ")"
   ]
  },
  {
   "cell_type": "code",
   "execution_count": null,
   "metadata": {},
   "outputs": [],
   "source": [
    "# Defining embedding model\n",
    "embed_model = AzureOpenAIEmbedding(\n",
    "    model = \"text-embedding-ada-002\",\n",
    "    deployment_name = AOAI_DEPLOYMENT2,\n",
    "    api_key = AOAI_API_KEY,\n",
    "    azure_endpoint = AOAI_API_BASE,\n",
    "    api_version = AOAI_API_VERSION,\n",
    ")"
   ]
  },
  {
   "cell_type": "code",
   "execution_count": null,
   "metadata": {},
   "outputs": [],
   "source": [
    "# Settings Llama Index's LLM and Embedding model\n",
    "Settings.llm = llm\n",
    "Settings.embed_model = embed_model"
   ]
  },
  {
   "cell_type": "code",
   "execution_count": null,
   "metadata": {},
   "outputs": [],
   "source": [
    "# Creating Vector Store Index\n",
    "documents = SimpleDirectoryReader(input_dir=\"data\").load_data()\n",
    "index = VectorStoreIndex.from_documents(documents)"
   ]
  },
  {
   "cell_type": "code",
   "execution_count": null,
   "metadata": {},
   "outputs": [],
   "source": [
    "# Testing query\n",
    "query = \"What are the vacation perks at Contoso Electronics?\"\n",
    "query_engine = index.as_query_engine()\n",
    "answer = query_engine.query(query)\n",
    "\n",
    "print(f\"Query: {query}\")\n",
    "print(\"-----------------\")\n",
    "print(f\"Answer: {answer}\")"
   ]
  },
  {
   "cell_type": "code",
   "execution_count": null,
   "metadata": {},
   "outputs": [],
   "source": [
    "# Checking formatted sources\n",
    "print(answer.get_formatted_sources())"
   ]
  }
 ],
 "metadata": {
  "kernelspec": {
   "display_name": "Python 3",
   "language": "python",
   "name": "python3"
  },
  "language_info": {
   "codemirror_mode": {
    "name": "ipython",
    "version": 3
   },
   "file_extension": ".py",
   "mimetype": "text/x-python",
   "name": "python",
   "nbconvert_exporter": "python",
   "pygments_lexer": "ipython3",
   "version": "3.11.8"
  }
 },
 "nbformat": 4,
 "nbformat_minor": 2
}
