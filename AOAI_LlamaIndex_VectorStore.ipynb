{
 "cells": [
  {
   "cell_type": "code",
   "execution_count": 1,
   "metadata": {},
   "outputs": [],
   "source": [
    "# Importing required packages\n",
    "from llama_index.llms.azure_openai import AzureOpenAI\n",
    "from llama_index.embeddings.azure_openai import AzureOpenAIEmbedding\n",
    "from llama_index.core import Settings, VectorStoreIndex, SimpleDirectoryReader\n",
    "import os"
   ]
  },
  {
   "cell_type": "code",
   "execution_count": 2,
   "metadata": {},
   "outputs": [],
   "source": [
    "# Extracting environment variables\n",
    "AOAI_API_BASE = os.getenv(\"OPENAI_API_BASE\")\n",
    "AOAI_API_KEY = os.getenv(\"OPENAI_API_KEY\")\n",
    "AOAI_API_VERSION = os.getenv(\"OPENAI_API_VERSION\")\n",
    "AOAI_DEPLOYMENT1 = os.getenv(\"OPENAI_API_DEPLOY\")\n",
    "AOAI_DEPLOYMENT2 = os.getenv(\"OPENAI_API_DEPLOY_EMBED\")"
   ]
  },
  {
   "cell_type": "code",
   "execution_count": 3,
   "metadata": {},
   "outputs": [],
   "source": [
    "# Defining GPT model\n",
    "llm = AzureOpenAI(\n",
    "    model = \"gpt-4\",\n",
    "    deployment_name = AOAI_DEPLOYMENT1,\n",
    "    api_key = AOAI_API_KEY,\n",
    "    azure_endpoint = AOAI_API_BASE,\n",
    "    api_version = AOAI_API_VERSION,\n",
    ")"
   ]
  },
  {
   "cell_type": "code",
   "execution_count": 4,
   "metadata": {},
   "outputs": [],
   "source": [
    "# Defining embedding model\n",
    "embed_model = AzureOpenAIEmbedding(\n",
    "    model = \"text-embedding-ada-002\",\n",
    "    deployment_name = AOAI_DEPLOYMENT2,\n",
    "    api_key = AOAI_API_KEY,\n",
    "    azure_endpoint = AOAI_API_BASE,\n",
    "    api_version = AOAI_API_VERSION,\n",
    ")"
   ]
  },
  {
   "cell_type": "code",
   "execution_count": 5,
   "metadata": {},
   "outputs": [],
   "source": [
    "# Settings Llama Index's LLM and Embedding model\n",
    "Settings.llm = llm\n",
    "Settings.embed_model = embed_model"
   ]
  },
  {
   "cell_type": "code",
   "execution_count": 6,
   "metadata": {},
   "outputs": [],
   "source": [
    "# Creating Vector Store Index\n",
    "documents = SimpleDirectoryReader(input_dir=\"data\").load_data()\n",
    "index = VectorStoreIndex.from_documents(documents)"
   ]
  },
  {
   "cell_type": "code",
   "execution_count": 7,
   "metadata": {},
   "outputs": [
    {
     "name": "stdout",
     "output_type": "stream",
     "text": [
      "Query: What are the vacation perks at Contoso Electronics?\n",
      "-----------------\n",
      "Answer: At Contoso Electronics, the vacation perks are structured into three tiers:\n",
      "\n",
      "1. Standard Tier: Employees receive 2 weeks of vacation with a health and wellness stipend.\n",
      "2. Senior Tier: Employees receive 4 weeks of vacation along with travel vouchers for a dream destination.\n",
      "3. Executive Tier: Employees are granted 6 weeks of vacation and a luxury resort getaway with family.\n"
     ]
    }
   ],
   "source": [
    "# Testing query\n",
    "query = \"What are the vacation perks at Contoso Electronics?\"\n",
    "query_engine = index.as_query_engine()\n",
    "answer = query_engine.query(query)\n",
    "\n",
    "print(f\"Query: {query}\")\n",
    "print(\"-----------------\")\n",
    "print(f\"Answer: {answer}\")"
   ]
  },
  {
   "cell_type": "code",
   "execution_count": 8,
   "metadata": {},
   "outputs": [
    {
     "name": "stdout",
     "output_type": "stream",
     "text": [
      "> Source (Doc id: af8a6bc0-1adf-49ae-bb83-f43879511f27): Vacation Perks\n",
      "\n",
      "We believe in work-life balance and understand the importance of well-deserved br...\n",
      "\n",
      "> Source (Doc id: b898dfcf-e569-459f-9b34-2d8797c131c9): Join Us!\n",
      "\n",
      "Contoso Electronics is always on the lookout for talented individuals who share our pas...\n"
     ]
    }
   ],
   "source": [
    "# Checking formatted sources\n",
    "print(answer.get_formatted_sources())"
   ]
  }
 ],
 "metadata": {
  "kernelspec": {
   "display_name": "Python 3",
   "language": "python",
   "name": "python3"
  },
  "language_info": {
   "codemirror_mode": {
    "name": "ipython",
    "version": 3
   },
   "file_extension": ".py",
   "mimetype": "text/x-python",
   "name": "python",
   "nbconvert_exporter": "python",
   "pygments_lexer": "ipython3",
   "version": "3.11.8"
  }
 },
 "nbformat": 4,
 "nbformat_minor": 2
}
